{
 "cells": [
  {
   "cell_type": "code",
   "execution_count": null,
   "metadata": {},
   "outputs": [],
   "source": [
    "!pip -q install ./python"
   ]
  },
  {
   "cell_type": "code",
   "execution_count": 1,
   "metadata": {},
   "outputs": [
    {
     "name": "stderr",
     "output_type": "stream",
     "text": [
      "INFO:unityagents:\n",
      "'Academy' started successfully!\n",
      "Unity Academy name: Academy\n",
      "        Number of Brains: 1\n",
      "        Number of External Brains : 1\n",
      "        Lesson number : 0\n",
      "        Reset Parameters :\n",
      "\t\t\n",
      "Unity brain name: TennisBrain\n",
      "        Number of Visual Observations (per agent): 0\n",
      "        Vector Observation space type: continuous\n",
      "        Vector Observation space size (per agent): 8\n",
      "        Number of stacked Vector Observation: 3\n",
      "        Vector Action space type: continuous\n",
      "        Vector Action space size (per agent): 2\n",
      "        Vector Action descriptions: , \n"
     ]
    }
   ],
   "source": [
    "import torch\n",
    "import numpy as np\n",
    "from collections import deque\n",
    "from unityagents import UnityEnvironment\n",
    "from config import Config\n",
    "from model import Actor, Critic\n",
    "from memory import ReplayBuffer\n",
    "from noise import OUNoise\n",
    "from ddpg_agent import Agent\n",
    "from multi_agent import MultiAgent\n",
    "\n",
    "import matplotlib.pyplot as plt\n",
    "%matplotlib inline\n",
    "\n",
    "env = UnityEnvironment(file_name=\"Tennis_Windows_x86_64\\Tennis.exe\")\n",
    "brain_name = env.brain_names[0]\n",
    "brain = env.brains[brain_name]"
   ]
  },
  {
   "cell_type": "code",
   "execution_count": 2,
   "metadata": {},
   "outputs": [],
   "source": [
    "env_info = env.reset(train_mode=True)[brain_name]"
   ]
  },
  {
   "cell_type": "code",
   "execution_count": 3,
   "metadata": {},
   "outputs": [],
   "source": [
    "config = Config()\n",
    "\n",
    "config.seed = 2\n",
    "config.device = torch.device(\"cuda:0\" if torch.cuda.is_available() else \"cpu\")\n",
    "config.action_size = brain.vector_action_space_size\n",
    "config.states = env_info.vector_observations\n",
    "config.state_size = config.states.shape[1]\n",
    "config.num_agents = len(env_info.agents)\n",
    "\n",
    "config.actor_hidden_units = (512,256)\n",
    "config.actor_network_fn = lambda: Actor(config.action_size, config.state_size, config.actor_hidden_units, config.seed).to(config.device)\n",
    "config.actor_optimizer_fn = lambda params: torch.optim.Adam(params, lr=config.actor_learning_rate)\n",
    "\n",
    "config.critic_hidden_units = (512,256)\n",
    "config.weight_decay = 0\n",
    "config.critic_network_fn = lambda: Critic(config.action_size, config.state_size, config.critic_hidden_units, config.seed).to(config.device)\n",
    "config.critic_optimizer_fn = lambda params: torch.optim.Adam(params, lr=config.critic_learning_rate)\n",
    "\n",
    "config.update_every = 4\n",
    "config.memory_fn = lambda: ReplayBuffer(config.action_size, config.buffer_size, config.batch_size, config.seed, config.device)\n",
    "\n",
    "config.noise_fn = lambda: OUNoise(config.action_size, config.seed)"
   ]
  },
  {
   "cell_type": "code",
   "execution_count": 8,
   "metadata": {},
   "outputs": [],
   "source": [
    "MA = MultiAgent(config)\n",
    "\n",
    "def maddpg(n_episodes=30000, max_t=2000):\n",
    "    all_scores = []\n",
    "    scores_window = deque(maxlen=100)\n",
    "    max_scores_window = deque(maxlen=100)\n",
    "    \n",
    "    for i_episode in range(1, n_episodes+1):\n",
    "        \n",
    "        MA.reset()\n",
    "        env_info = env.reset(train_mode=True)[brain_name]\n",
    "        states = env_info.vector_observations           \n",
    "        scores = np.zeros(config.num_agents)\n",
    "\n",
    "        for i in range(max_t):\n",
    "            actions = MA.act(states)\n",
    "            env_info = env.step(actions)[brain_name]\n",
    "            rewards = env_info.rewards\n",
    "            next_states = env_info.vector_observations\n",
    "            dones = env_info.local_done\n",
    "\n",
    "            MA.step(states, actions, rewards, next_states, dones)\n",
    "\n",
    "            scores += rewards\n",
    "            states = next_states\n",
    "                \n",
    "        avg_score = np.mean(scores)\n",
    "        max_score = np.max(scores)\n",
    "        scores.append(avg_score)\n",
    "        max_scores.append(max_score)\n",
    "        all_scores.append(avg_score)\n",
    "        \n",
    "        print('\\rEpisode {}\\tAverage Score: {:.5f} \\tMax Average Score: {:.5f}'.format(i_episode, np.mean(scores), np.mean(max_scores_window)), end=\"\")\n",
    "\n",
    "        if i_episode % 100 == 0:\n",
    "            print('\\rEpisode {}\\tAverage Score: {:.2f}'.format(i_episode, np.mean(scores)))\n",
    "        if np.mean(scores)>=0.5:\n",
    "            print('\\nEnvironment solved in {:d} episodes!\\tAverage Score: {:.2f}'.format(i_episode-5, np.mean(scores)))\n",
    "            torch.save(MA.ddpg_agents[0].actor_local.state_dict(), 'checkpoint_actor.pth')\n",
    "            torch.save(MA.ddpg_agents[0].critic_local.state_dict(), 'checkpoint_critic.pth')\n",
    "        if (i_episode > 100) & (np.mean(scores)>=0.5):\n",
    "            print('\\nFinal Average Score: {:.2f}'.format(np.mean(scores_window)))\n",
    "            torch.save(MA.ddpg_agents[0].actor_local.state_dict(), 'checkpoint_actor.pth')\n",
    "            torch.save(MA.ddpg_agents[0].critic_local.state_dict(), 'checkpoint_critic.pth')\n",
    "            break \n",
    "            \n",
    "    return all_scores"
   ]
  },
  {
   "cell_type": "code",
   "execution_count": 9,
   "metadata": {
    "scrolled": true
   },
   "outputs": [
    {
     "name": "stderr",
     "output_type": "stream",
     "text": [
      "C:\\Users\\kaixi\\AppData\\Local\\Continuum\\anaconda3\\lib\\site-packages\\torch\\nn\\functional.py:995: UserWarning: nn.functional.tanh is deprecated. Use torch.tanh instead.\n",
      "  warnings.warn(\"nn.functional.tanh is deprecated. Use torch.tanh instead.\")\n"
     ]
    },
    {
     "name": "stdout",
     "output_type": "stream",
     "text": [
      "Episode 60\tAverage Score: 0.51517 \tMax Average Score: 0.7321706\n",
      "Environment solved in 55 episodes!\tAverage Score: 0.52\n",
      "Episode 61\tAverage Score: 0.55328 \tMax Average Score: 0.76869\n",
      "Environment solved in 56 episodes!\tAverage Score: 0.55\n",
      "Episode 62\tAverage Score: 0.59169 \tMax Average Score: 0.80871\n",
      "Environment solved in 57 episodes!\tAverage Score: 0.59\n",
      "Episode 63\tAverage Score: 0.63040 \tMax Average Score: 0.84921\n",
      "Environment solved in 58 episodes!\tAverage Score: 0.63\n",
      "Episode 64\tAverage Score: 0.67469 \tMax Average Score: 0.90047\n",
      "Environment solved in 59 episodes!\tAverage Score: 0.67\n",
      "Episode 65\tAverage Score: 0.71938 \tMax Average Score: 0.94308\n",
      "Environment solved in 60 episodes!\tAverage Score: 0.72\n",
      "Episode 66\tAverage Score: 0.76311 \tMax Average Score: 0.98758\n",
      "Environment solved in 61 episodes!\tAverage Score: 0.76\n",
      "Episode 67\tAverage Score: 0.81216 \tMax Average Score: 1.03403\n",
      "Environment solved in 62 episodes!\tAverage Score: 0.81\n",
      "Episode 68\tAverage Score: 0.85074 \tMax Average Score: 1.07015\n",
      "Environment solved in 63 episodes!\tAverage Score: 0.85\n",
      "Episode 69\tAverage Score: 0.89203 \tMax Average Score: 1.11536\n",
      "Environment solved in 64 episodes!\tAverage Score: 0.89\n",
      "Episode 70\tAverage Score: 0.93229 \tMax Average Score: 1.15443\n",
      "Environment solved in 65 episodes!\tAverage Score: 0.93\n",
      "Episode 71\tAverage Score: 0.97042 \tMax Average Score: 1.20268\n",
      "Environment solved in 66 episodes!\tAverage Score: 0.97\n",
      "Episode 72\tAverage Score: 1.00486 \tMax Average Score: 1.23750\n",
      "Environment solved in 67 episodes!\tAverage Score: 1.00\n",
      "Episode 73\tAverage Score: 1.04589 \tMax Average Score: 1.28534\n",
      "Environment solved in 68 episodes!\tAverage Score: 1.05\n",
      "Episode 74\tAverage Score: 1.08284 \tMax Average Score: 1.33068\n",
      "Environment solved in 69 episodes!\tAverage Score: 1.08\n",
      "Episode 75\tAverage Score: 1.12187 \tMax Average Score: 1.37080\n",
      "Environment solved in 70 episodes!\tAverage Score: 1.12\n",
      "Episode 76\tAverage Score: 1.16362 \tMax Average Score: 1.41224\n",
      "Environment solved in 71 episodes!\tAverage Score: 1.16\n",
      "Episode 77\tAverage Score: 1.20649 \tMax Average Score: 1.45636\n",
      "Environment solved in 72 episodes!\tAverage Score: 1.21\n",
      "Episode 78\tAverage Score: 1.24679 \tMax Average Score: 1.49833\n",
      "Environment solved in 73 episodes!\tAverage Score: 1.25\n",
      "Episode 79\tAverage Score: 1.29114 \tMax Average Score: 1.53949\n",
      "Environment solved in 74 episodes!\tAverage Score: 1.29\n",
      "Episode 80\tAverage Score: 1.33294 \tMax Average Score: 1.58000\n",
      "Environment solved in 75 episodes!\tAverage Score: 1.33\n",
      "Episode 81\tAverage Score: 1.37593 \tMax Average Score: 1.62012\n",
      "Environment solved in 76 episodes!\tAverage Score: 1.38\n",
      "Episode 82\tAverage Score: 1.41707 \tMax Average Score: 1.66110\n",
      "Environment solved in 77 episodes!\tAverage Score: 1.42\n",
      "Episode 83\tAverage Score: 1.45867 \tMax Average Score: 1.70120\n",
      "Environment solved in 78 episodes!\tAverage Score: 1.46\n",
      "Episode 84\tAverage Score: 1.49655 \tMax Average Score: 1.73762\n",
      "Environment solved in 79 episodes!\tAverage Score: 1.50\n",
      "Episode 85\tAverage Score: 1.53353 \tMax Average Score: 1.77200\n",
      "Environment solved in 80 episodes!\tAverage Score: 1.53\n",
      "Episode 86\tAverage Score: 1.56517 \tMax Average Score: 1.80279\n",
      "Environment solved in 81 episodes!\tAverage Score: 1.57\n",
      "Episode 87\tAverage Score: 1.59626 \tMax Average Score: 1.83471\n",
      "Environment solved in 82 episodes!\tAverage Score: 1.60\n",
      "Episode 88\tAverage Score: 1.62830 \tMax Average Score: 1.86807\n",
      "Environment solved in 83 episodes!\tAverage Score: 1.63\n",
      "Episode 89\tAverage Score: 1.65893 \tMax Average Score: 1.90404\n",
      "Environment solved in 84 episodes!\tAverage Score: 1.66\n",
      "Episode 90\tAverage Score: 1.68756 \tMax Average Score: 1.93244\n",
      "Environment solved in 85 episodes!\tAverage Score: 1.69\n",
      "Episode 91\tAverage Score: 1.71214 \tMax Average Score: 1.95440\n",
      "Environment solved in 86 episodes!\tAverage Score: 1.71\n",
      "Episode 92\tAverage Score: 1.73701 \tMax Average Score: 1.97750\n",
      "Environment solved in 87 episodes!\tAverage Score: 1.74\n",
      "Episode 93\tAverage Score: 1.76538 \tMax Average Score: 2.00387\n",
      "Environment solved in 88 episodes!\tAverage Score: 1.77\n",
      "Episode 94\tAverage Score: 1.78755 \tMax Average Score: 2.02394\n",
      "Environment solved in 89 episodes!\tAverage Score: 1.79\n",
      "Episode 95\tAverage Score: 1.81095 \tMax Average Score: 2.04589\n",
      "Environment solved in 90 episodes!\tAverage Score: 1.81\n",
      "Episode 96\tAverage Score: 1.83276 \tMax Average Score: 2.06656\n",
      "Environment solved in 91 episodes!\tAverage Score: 1.83\n",
      "Episode 97\tAverage Score: 1.85361 \tMax Average Score: 2.08804\n",
      "Environment solved in 92 episodes!\tAverage Score: 1.85\n",
      "Episode 98\tAverage Score: 1.87520 \tMax Average Score: 2.11133\n",
      "Environment solved in 93 episodes!\tAverage Score: 1.88\n",
      "Episode 99\tAverage Score: 1.89101 \tMax Average Score: 2.12970\n",
      "Environment solved in 94 episodes!\tAverage Score: 1.89\n",
      "Episode 100\tAverage Score: 1.91820 \tMax Average Score: 2.14710\n",
      "\n",
      "Environment solved in 95 episodes!\tAverage Score: 1.91\n",
      "Episode 101\tAverage Score: 1.95030 \tMax Average Score: 2.19080\n",
      "Environment solved in 96 episodes!\tAverage Score: 1.95\n",
      "\n",
      "Final Average Score: 1.95\n"
     ]
    },
    {
     "data": {
      "image/png": "[encoded data removed]",
      "text/plain": [
       "<Figure size 432x288 with 1 Axes>"
      ]
     },
     "metadata": {},
     "output_type": "display_data"
    }
   ],
   "source": [
    "scores = maddpg()\n",
    "\n",
    "# plot the scores\n",
    "fig = plt.figure()\n",
    "ax = fig.add_subplot(111)\n",
    "plt.plot(np.arange(len(scores)), scores)\n",
    "plt.ylabel('Score')\n",
    "plt.xlabel('Episode #')\n",
    "plt.show()"
   ]
  },
  {
   "cell_type": "code",
   "execution_count": null,
   "metadata": {},
   "outputs": [],
   "source": []
  },
  {
   "cell_type": "code",
   "execution_count": null,
   "metadata": {},
   "outputs": [],
   "source": []
  }
 ],
 "metadata": {
  "kernelspec": {
   "display_name": "Python 3",
   "language": "python",
   "name": "python3"
  },
  "language_info": {
   "codemirror_mode": {
    "name": "ipython",
    "version": 3
   },
   "file_extension": ".py",
   "mimetype": "text/x-python",
   "name": "python",
   "nbconvert_exporter": "python",
   "pygments_lexer": "ipython3",
   "version": "3.6.5"
  }
 },
 "nbformat": 4,
 "nbformat_minor": 2
}
